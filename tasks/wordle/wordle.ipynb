{
 "cells": [
  {
   "cell_type": "code",
   "execution_count": 3,
   "id": "8b82ca81",
   "metadata": {},
   "outputs": [
    {
     "name": "stdout",
     "output_type": "stream",
     "text": [
      "51301\n"
     ]
    }
   ],
   "source": [
    "MAS = []\n",
    "with open('russian.txt', 'r+') as ru:\n",
    "    for word in ru:\n",
    "        MAS.append(word.rstrip())\n",
    "print(len(MAS))"
   ]
  },
  {
   "cell_type": "code",
   "execution_count": 4,
   "id": "cd9cbc8d",
   "metadata": {},
   "outputs": [
    {
     "name": "stdout",
     "output_type": "stream",
     "text": [
      "['а', 'б', 'в', 'г', 'д', 'е', 'ж', 'з', 'и', 'й', 'к', 'л', 'м', 'н', 'о', 'п', 'р', 'с', 'т', 'у', 'ф', 'х', 'ц', 'ч', 'ш', 'щ', 'ъ', 'ы', 'ь', 'э', 'ю', 'я']\n"
     ]
    }
   ],
   "source": [
    "a = ord('а')\n",
    "alph = [chr(i) for i in range(a,a+32)]\n",
    "print(alph)"
   ]
  },
  {
   "cell_type": "code",
   "execution_count": 5,
   "id": "14b36fc2",
   "metadata": {},
   "outputs": [],
   "source": [
    "def req(dct, set_, n):\n",
    "    res = []\n",
    "    for i in MAS:\n",
    "        if len(i) == n:\n",
    "            if not set_ & set(i):\n",
    "                f = 1\n",
    "                for key in dct:\n",
    "                    if not i.count(key) >= dct[key]:\n",
    "                        f = 0\n",
    "                if f:\n",
    "                    res.append(i)\n",
    "\n",
    "    return(res)"
   ]
  },
  {
   "cell_type": "code",
   "execution_count": 6,
   "id": "f1708df3",
   "metadata": {},
   "outputs": [
    {
     "name": "stdout",
     "output_type": "stream",
     "text": [
      "['хи-хи', 'цезий']\n"
     ]
    }
   ],
   "source": [
    "# example 1\n",
    "EX1 = req(dict(), set('абвгдяклмнопрст'), 5)\n",
    "print(EX1)"
   ]
  },
  {
   "cell_type": "code",
   "execution_count": 7,
   "id": "3ef1b291",
   "metadata": {},
   "outputs": [
    {
     "name": "stdout",
     "output_type": "stream",
     "text": [
      "['клевок', 'клеймо', 'козлец', 'коллеж', 'комель', 'кошель', 'левкой', 'легкое', 'лейкоз', 'олешек', 'хлевок', 'щелчок']\n"
     ]
    }
   ],
   "source": [
    "EX2 = req({'к':1, 'о':1, 'л':1, 'е':1}, set('рнадпусбти'), 6)\n",
    "print(EX2)"
   ]
  }
 ],
 "metadata": {
  "kernelspec": {
   "display_name": "Python 3 (ipykernel)",
   "language": "python",
   "name": "python3"
  },
  "language_info": {
   "codemirror_mode": {
    "name": "ipython",
    "version": 3
   },
   "file_extension": ".py",
   "mimetype": "text/x-python",
   "name": "python",
   "nbconvert_exporter": "python",
   "pygments_lexer": "ipython3",
   "version": "3.10.6"
  }
 },
 "nbformat": 4,
 "nbformat_minor": 5
}
