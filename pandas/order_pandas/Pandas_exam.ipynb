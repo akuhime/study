{
 "cells": [
  {
   "cell_type": "markdown",
   "metadata": {
    "id": "71u70YGCnV5n"
   },
   "source": [
    "Необходимо скачать датасеты: [`titles.csv`](https://drive.google.com/open?id=0B3G70MlBnCgKajNMa1pfSzN6Q3M) и [`cast.csv`](https://drive.google.com/open?id=0B3G70MlBnCgKal9UYTJSR2ZhSW8)."
   ]
  },
  {
   "cell_type": "code",
   "execution_count": 1,
   "metadata": {
    "id": "ExIqskKUnV5p"
   },
   "outputs": [],
   "source": [
    "import pandas as pd"
   ]
  },
  {
   "cell_type": "code",
   "execution_count": 2,
   "metadata": {
    "id": "MRjnHB2JnV5s",
    "outputId": "de8dee92-4b4f-4716-e67d-045ed39618da",
    "scrolled": true
   },
   "outputs": [
    {
     "name": "stdout",
     "output_type": "stream",
     "text": [
      "<class 'pandas.core.frame.DataFrame'>\n",
      "RangeIndex: 215981 entries, 0 to 215980\n",
      "Data columns (total 2 columns):\n",
      " #   Column  Non-Null Count   Dtype \n",
      "---  ------  --------------   ----- \n",
      " 0   title   215981 non-null  object\n",
      " 1   year    215981 non-null  int64 \n",
      "dtypes: int64(1), object(1)\n",
      "memory usage: 3.3+ MB\n"
     ]
    }
   ],
   "source": [
    "titles = pd.read_csv('titles.csv')\n",
    "titles.info()"
   ]
  },
  {
   "cell_type": "markdown",
   "metadata": {
    "id": "6dT8lt_qnV5w"
   },
   "source": [
    "Сколько фильмов в таблице?"
   ]
  },
  {
   "cell_type": "code",
   "execution_count": 3,
   "metadata": {
    "clear_cell": true,
    "id": "jUw-i5V5nV5x"
   },
   "outputs": [
    {
     "name": "stdout",
     "output_type": "stream",
     "text": [
      "215981\n"
     ]
    }
   ],
   "source": [
    "print(titles.title.count())"
   ]
  },
  {
   "cell_type": "markdown",
   "metadata": {
    "id": "lNFnEG87nV50"
   },
   "source": [
    "Какие два самых ранних фильма в таблице?"
   ]
  },
  {
   "cell_type": "code",
   "execution_count": 4,
   "metadata": {
    "clear_cell": true,
    "id": "BBLetUN6nV50"
   },
   "outputs": [
    {
     "name": "stdout",
     "output_type": "stream",
     "text": [
      "Miss Jerry, Reproduction of the Corbett and Fitzsimmons Fight\n"
     ]
    }
   ],
   "source": [
    "print(*list(titles.sort_values(by='year', ascending=True).head(2).title), sep=', ')"
   ]
  },
  {
   "cell_type": "markdown",
   "metadata": {
    "id": "PCnpWPlMnV53"
   },
   "source": [
    "У скольких фильмов название `Hamlet`?"
   ]
  },
  {
   "cell_type": "code",
   "execution_count": 5,
   "metadata": {
    "clear_cell": true,
    "id": "6EETAf5ZnV54"
   },
   "outputs": [
    {
     "name": "stdout",
     "output_type": "stream",
     "text": [
      "19\n"
     ]
    }
   ],
   "source": [
    "print(titles[titles.title == 'Hamlet'].title.count())"
   ]
  },
  {
   "cell_type": "markdown",
   "metadata": {
    "id": "X6kRidahnV57"
   },
   "source": [
    "Выведите список всех фильмов `Treasure Island` с годами "
   ]
  },
  {
   "cell_type": "code",
   "execution_count": 6,
   "metadata": {
    "clear_cell": true,
    "id": "ehwGFSIknV57"
   },
   "outputs": [
    {
     "name": "stdout",
     "output_type": "stream",
     "text": [
      "                  title  year\n",
      "47769   Treasure Island  1920\n",
      "90175   Treasure Island  1950\n",
      "103646  Treasure Island  1973\n",
      "104714  Treasure Island  1972\n",
      "166675  Treasure Island  1999\n",
      "190792  Treasure Island  1985\n",
      "191379  Treasure Island  1918\n",
      "192917  Treasure Island  1934\n"
     ]
    }
   ],
   "source": [
    "print(titles[titles.title == 'Treasure Island'])"
   ]
  },
  {
   "cell_type": "markdown",
   "metadata": {
    "id": "nUS8FxFWnV5_"
   },
   "source": [
    "Сколько фильмов было сделано с 1850 по 1900 года?"
   ]
  },
  {
   "cell_type": "code",
   "execution_count": 7,
   "metadata": {
    "clear_cell": true,
    "id": "IFsmBNABnV6A"
   },
   "outputs": [
    {
     "name": "stdout",
     "output_type": "stream",
     "text": [
      "8\n"
     ]
    }
   ],
   "source": [
    "print(titles[(titles.year >= 1850)&(titles.year <= 1900)].title.count())"
   ]
  },
  {
   "cell_type": "code",
   "execution_count": 8,
   "metadata": {
    "id": "La8tvQ7hnV6E",
    "outputId": "e41a61bb-3d0a-4960-a134-4d7805f17b32"
   },
   "outputs": [
    {
     "data": {
      "text/html": [
       "<div>\n",
       "<style scoped>\n",
       "    .dataframe tbody tr th:only-of-type {\n",
       "        vertical-align: middle;\n",
       "    }\n",
       "\n",
       "    .dataframe tbody tr th {\n",
       "        vertical-align: top;\n",
       "    }\n",
       "\n",
       "    .dataframe thead th {\n",
       "        text-align: right;\n",
       "    }\n",
       "</style>\n",
       "<table border=\"1\" class=\"dataframe\">\n",
       "  <thead>\n",
       "    <tr style=\"text-align: right;\">\n",
       "      <th></th>\n",
       "      <th>title</th>\n",
       "      <th>year</th>\n",
       "      <th>name</th>\n",
       "      <th>type</th>\n",
       "      <th>character</th>\n",
       "      <th>n</th>\n",
       "    </tr>\n",
       "  </thead>\n",
       "  <tbody>\n",
       "    <tr>\n",
       "      <th>0</th>\n",
       "      <td>Suuri illusioni</td>\n",
       "      <td>1985</td>\n",
       "      <td>Homo $</td>\n",
       "      <td>actor</td>\n",
       "      <td>Guests</td>\n",
       "      <td>22.0</td>\n",
       "    </tr>\n",
       "    <tr>\n",
       "      <th>1</th>\n",
       "      <td>Gangsta Rap: The Glockumentary</td>\n",
       "      <td>2007</td>\n",
       "      <td>Too $hort</td>\n",
       "      <td>actor</td>\n",
       "      <td>Himself</td>\n",
       "      <td>NaN</td>\n",
       "    </tr>\n",
       "    <tr>\n",
       "      <th>2</th>\n",
       "      <td>Menace II Society</td>\n",
       "      <td>1993</td>\n",
       "      <td>Too $hort</td>\n",
       "      <td>actor</td>\n",
       "      <td>Lew-Loc</td>\n",
       "      <td>27.0</td>\n",
       "    </tr>\n",
       "    <tr>\n",
       "      <th>3</th>\n",
       "      <td>Porndogs: The Adventures of Sadie</td>\n",
       "      <td>2009</td>\n",
       "      <td>Too $hort</td>\n",
       "      <td>actor</td>\n",
       "      <td>Bosco</td>\n",
       "      <td>3.0</td>\n",
       "    </tr>\n",
       "    <tr>\n",
       "      <th>4</th>\n",
       "      <td>Stop Pepper Palmer</td>\n",
       "      <td>2014</td>\n",
       "      <td>Too $hort</td>\n",
       "      <td>actor</td>\n",
       "      <td>Himself</td>\n",
       "      <td>NaN</td>\n",
       "    </tr>\n",
       "  </tbody>\n",
       "</table>\n",
       "</div>"
      ],
      "text/plain": [
       "                               title  year       name   type character     n\n",
       "0                    Suuri illusioni  1985     Homo $  actor    Guests  22.0\n",
       "1     Gangsta Rap: The Glockumentary  2007  Too $hort  actor   Himself   NaN\n",
       "2                  Menace II Society  1993  Too $hort  actor   Lew-Loc  27.0\n",
       "3  Porndogs: The Adventures of Sadie  2009  Too $hort  actor     Bosco   3.0\n",
       "4                 Stop Pepper Palmer  2014  Too $hort  actor   Himself   NaN"
      ]
     },
     "execution_count": 8,
     "metadata": {},
     "output_type": "execute_result"
    }
   ],
   "source": [
    "cast = pd.read_csv('cast.csv')\n",
    "cast.head()"
   ]
  },
  {
   "cell_type": "markdown",
   "metadata": {
    "id": "PUaVLW-HnV6H"
   },
   "source": [
    "У скольких ролей в фильме `Inception` неизвестно значение столбца `n`?"
   ]
  },
  {
   "cell_type": "code",
   "execution_count": 9,
   "metadata": {
    "clear_cell": true,
    "id": "NleNgHu5nV6H"
   },
   "outputs": [
    {
     "name": "stdout",
     "output_type": "stream",
     "text": [
      "22\n"
     ]
    }
   ],
   "source": [
    "print(cast[cast.title == 'Inception'].n.isnull().sum())"
   ]
  },
  {
   "cell_type": "markdown",
   "metadata": {
    "id": "pblXPekinV6K"
   },
   "source": [
    "А у скольких известно?"
   ]
  },
  {
   "cell_type": "code",
   "execution_count": 11,
   "metadata": {
    "clear_cell": true,
    "id": "EhyfCRjZnV6K"
   },
   "outputs": [
    {
     "name": "stdout",
     "output_type": "stream",
     "text": [
      "51\n"
     ]
    }
   ],
   "source": [
    "print(cast[cast.title == 'Inception'].n.count())"
   ]
  },
  {
   "cell_type": "markdown",
   "metadata": {
    "id": "6HlDnQGKnV6N"
   },
   "source": [
    "Отобразите актеров фильма `North by Northwest` по их \"главности\", то есть отсортируйте по значению столбца `n`. Неизвестные значиния игнорировать."
   ]
  },
  {
   "cell_type": "code",
   "execution_count": 12,
   "metadata": {
    "clear_cell": true,
    "id": "T243wKBFnV6O"
   },
   "outputs": [
    {
     "name": "stdout",
     "output_type": "stream",
     "text": [
      "Ken Lynch\n",
      "Edward Binns\n",
      "Patrick McVey\n",
      "Philip Coolidge\n",
      "Les Tremayne\n",
      "Robert Ellenstein\n",
      "Edward Platt\n",
      "Adam Williams\n",
      "Martin Landau\n",
      "Philip Ober\n",
      "Josephine Hutchinson\n",
      "Leo G. Carroll\n",
      "Jessie Royce Landis\n",
      "James Mason\n",
      "Eva Marie Saint\n",
      "Cary Grant\n"
     ]
    }
   ],
   "source": [
    "actors = cast[cast.title == 'North by Northwest'].sort_values(by='n', ascending=False)\n",
    "print(*list(actors[actors.n.notna()].name), sep='\\n')"
   ]
  },
  {
   "cell_type": "markdown",
   "metadata": {
    "id": "d_MIytEMnV6R"
   },
   "source": [
    "Сколько ролей было в немой версии Гамлета 1921 года?"
   ]
  },
  {
   "cell_type": "code",
   "execution_count": 13,
   "metadata": {
    "clear_cell": true,
    "id": "e1dOoAkFnV6R"
   },
   "outputs": [
    {
     "name": "stdout",
     "output_type": "stream",
     "text": [
      "9\n"
     ]
    }
   ],
   "source": [
    "print(cast[(cast.title == 'Hamlet') & (cast.year == 1921)].character.count())"
   ]
  },
  {
   "cell_type": "markdown",
   "metadata": {
    "id": "-EXONs_TnV6U"
   },
   "source": [
    "Перечислите вторые роли Брэда Питта по годам\n"
   ]
  },
  {
   "cell_type": "code",
   "execution_count": 36,
   "metadata": {
    "clear_cell": true,
    "id": "mCjtrUcxnV6U"
   },
   "outputs": [
    {
     "name": "stdout",
     "output_type": "stream",
     "text": [
      "1988   Rick\n",
      "1990   Joe Maloney\n",
      "1992   Paul Maclean\n",
      "1997   Rory Devaney\n",
      "1997   Francis Austin McGuire\n",
      "1998   Joe Black\n",
      "1998   Young Man in Coffee Shop\n",
      "1999   Tyler Durden\n",
      "2001   Tom Bishop\n",
      "2007   Rusty Ryan\n",
      "2008   Benjamin Button\n",
      "2010   Metro Man\n"
     ]
    }
   ],
   "source": [
    "with_BP = cast[(cast.name == 'Brad Pitt')].sort_values(by='year', ascending=True)[['title', 'year','character']]\n",
    "for movie in with_BP.index:\n",
    "    movie_actors = cast[cast.title == cast.iloc[movie].title].sort_values(by='n', ascending=True).name\n",
    "    if movie_actors.count() > 1:\n",
    "        if movie_actors.iloc[1] == 'Brad Pitt':\n",
    "            print(cast.iloc[movie].year, ' ', cast.iloc[movie].character)"
   ]
  }
 ],
 "metadata": {
  "colab": {
   "name": "Pandas-exam.ipynb",
   "provenance": []
  },
  "kernelspec": {
   "display_name": "Python 3 (ipykernel)",
   "language": "python",
   "name": "python3"
  },
  "language_info": {
   "codemirror_mode": {
    "name": "ipython",
    "version": 3
   },
   "file_extension": ".py",
   "mimetype": "text/x-python",
   "name": "python",
   "nbconvert_exporter": "python",
   "pygments_lexer": "ipython3",
   "version": "3.10.6"
  },
  "vscode": {
   "interpreter": {
    "hash": "916dbcbb3f70747c44a77c7bcd40155683ae19c65e1c03b4aa3499c5328201f1"
   }
  }
 },
 "nbformat": 4,
 "nbformat_minor": 1
}
